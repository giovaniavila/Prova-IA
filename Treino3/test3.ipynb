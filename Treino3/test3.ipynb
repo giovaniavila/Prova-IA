{
 "cells": [
  {
   "cell_type": "code",
   "execution_count": 1,
   "id": "aa2bb257",
   "metadata": {},
   "outputs": [
    {
     "data": {
      "text/html": [
       "<div>\n",
       "<style scoped>\n",
       "    .dataframe tbody tr th:only-of-type {\n",
       "        vertical-align: middle;\n",
       "    }\n",
       "\n",
       "    .dataframe tbody tr th {\n",
       "        vertical-align: top;\n",
       "    }\n",
       "\n",
       "    .dataframe thead th {\n",
       "        text-align: right;\n",
       "    }\n",
       "</style>\n",
       "<table border=\"1\" class=\"dataframe\">\n",
       "  <thead>\n",
       "    <tr style=\"text-align: right;\">\n",
       "      <th></th>\n",
       "      <th>id</th>\n",
       "      <th>cliente</th>\n",
       "      <th>produto</th>\n",
       "      <th>data</th>\n",
       "      <th>categoria</th>\n",
       "      <th>reclamacao</th>\n",
       "    </tr>\n",
       "  </thead>\n",
       "  <tbody>\n",
       "    <tr>\n",
       "      <th>0</th>\n",
       "      <td>1</td>\n",
       "      <td>Carlos</td>\n",
       "      <td>Tablet A</td>\n",
       "      <td>2024-05-17</td>\n",
       "      <td>Entrega</td>\n",
       "      <td>Comprei o produto há mais de duas semanas e el...</td>\n",
       "    </tr>\n",
       "    <tr>\n",
       "      <th>1</th>\n",
       "      <td>2</td>\n",
       "      <td>Mariana</td>\n",
       "      <td>Geladeira Z</td>\n",
       "      <td>2024-05-22</td>\n",
       "      <td>Atendimento</td>\n",
       "      <td>Realizei o pagamento à vista, via boleto bancá...</td>\n",
       "    </tr>\n",
       "  </tbody>\n",
       "</table>\n",
       "</div>"
      ],
      "text/plain": [
       "   id  cliente      produto        data    categoria  \\\n",
       "0   1   Carlos     Tablet A  2024-05-17      Entrega   \n",
       "1   2  Mariana  Geladeira Z  2024-05-22  Atendimento   \n",
       "\n",
       "                                          reclamacao  \n",
       "0  Comprei o produto há mais de duas semanas e el...  \n",
       "1  Realizei o pagamento à vista, via boleto bancá...  "
      ]
     },
     "execution_count": 1,
     "metadata": {},
     "output_type": "execute_result"
    }
   ],
   "source": [
    "# primeiro passo, devemos utilizar da biblioteca pandas para que\n",
    "# possamos ler esse csv\n",
    "\n",
    "import pandas as pd\n",
    "\n",
    "df = pd.read_csv(\"reclamacoes_clientes.csv\")\n",
    "\n",
    "df.head(2)\n"
   ]
  },
  {
   "cell_type": "code",
   "execution_count": 2,
   "id": "3ba6abe8",
   "metadata": {},
   "outputs": [
    {
     "name": "stdout",
     "output_type": "stream",
     "text": [
      "['comprei', 'produto', 'haver', 'semana', 'entregar', 'site', 'constar', 'prazo', 'entrega', 'dia', 'útil', 'entrar', 'contato', 'suporte', 'informar', 'produto', 'nenhum', 'previsão', 'claro', 'finalmente', 'recebi', 'aviso', 'entrega', 'pacote', 'chegar', 'danificar', 'embalagem', 'rasgar', 'sinal', 'violação', 'descaso', 'total', 'consumidor', 'enviar', 'cobrar', 'solução', 'ninguém', 'responder', 'sinto', 'totalmente', 'desrespeitar', 'cliente', 'recomendar', 'loja', 'ninguém', 'atendimento', 'extremamente', 'demorar', 'ineficaz', 'solução', 'imediato', 'ter', 'acionar', 'órgão', 'defesa', 'consumidor']\n",
      "['realizeir', 'pagamento', 'vista', 'via', 'boleto', 'bancário', 'dia', 'compra', 'prazo', 'confirmação', 'dia', 'útil', 'passar', 'dia', 'status', 'pedido', 'alterar', 'entrar', 'contato', 'chat', 'loja', 'recebi', 'resposta', 'automático', 'ligar', 'sac', 'ligação', 'cair', 'várias', 'finalmente', 'conseguir', 'falar', 'atendente', 'dizer', 'ir', 'verificar', 'retornarer', 'contato', 'acontecer', 'produto', 'ficar', 'estoque', 'ser', 'paguei', 'disponível', 'propaganda', 'enganoso', 'total', 'organização', 'profundamente', 'insatisfeito', 'experiência', 'estorno', 'imediato']\n",
      "['comprei', 'produto', 'anunciar', 'recebi', 'unidade', 'visivelmente', 'usar', 'risco', 'carcaça', 'sinal', 'uso', 'imediatamente', 'entrar', 'contato', 'atendimento', 'solicitar', 'troca', 'informar', 'prazo', 'reclamação', 'haver', 'expirar', 'ser', 'recebi', 'item', 'haver', 'dia', 'inaceitável', 'atendimento', 'cliente', 'lento', 'treinar', 'atendente', 'informação', 'diferente', 'ninguém', 'resolver', 'efetivamente', 'problema', 'abri', 'protocolo', 'mandar', 'foto', 'mandar', 'vídeo', 'fazer', 'cliente', 'implorar', 'empresa', 'cumpra', 'próprio', 'termo', 'unidade', 'dinheiro', 'volta', 'resolver', 'próximo', 'dia', 'abrirar', 'reclamação', 'procon', 'canal']\n",
      "['aguardar', 'entrega', 'haver', 'semana']\n",
      "['recebi', 'produto', 'errar', 'preciso', 'troca', 'urgente']\n",
      "['suporte', 'técnico', 'atender', 'ligação']\n",
      "['cancelei', 'compra', 'cobrar', 'cartão']\n",
      "['entrega', 'fazer', 'outro', 'endereço', 'erro', 'loja']\n",
      "['produto', 'defeito', 'ninguém', 'responder']\n",
      "['demorar', 'aprovar', 'pagamento', 'perdi', 'promoção']\n",
      "                                          reclamacao  \\\n",
      "0  Comprei o produto há mais de duas semanas e el...   \n",
      "1  Realizei o pagamento à vista, via boleto bancá...   \n",
      "2  Comprei um produto anunciado como 'novo' e rec...   \n",
      "3  Estou aguardando a entrega há mais de uma semana.   \n",
      "4  Recebi o produto errado, preciso de troca urge...   \n",
      "\n",
      "                                      processed_text  \n",
      "0  comprei produto haver semana entregar site con...  \n",
      "1  realizeir pagamento vista via boleto bancário ...  \n",
      "2  comprei produto anunciar recebi unidade visive...  \n",
      "3                      aguardar entrega haver semana  \n",
      "4         recebi produto errar preciso troca urgente  \n"
     ]
    }
   ],
   "source": [
    "import spacy  # importa a biblioteca spaCy para processamento de linguagem natural\n",
    "\n",
    "nlp = spacy.load(\"pt_core_news_sm\")  # carrega o modelo de linguagem para português (pequeno)\n",
    "\n",
    "def preprocess(text):\n",
    "    if not isinstance(text, str):  # verifica se o input é uma string, senão retorna string vazia\n",
    "        return \"\"\n",
    "    doc = nlp(text.lower())  # converte o texto para minúsculas e processa com spaCy\n",
    "    # cria uma lista de lemas (forma base das palavras) filtrando tokens que são letras e não são stopwords\n",
    "    tokens = [token.lemma_ for token in doc if token.is_alpha and not token.is_stop]  \n",
    "    print(tokens)  # imprime os tokens lematizados para conferência\n",
    "    return \" \".join(tokens)  # retorna os tokens unidos em uma string novamente\n",
    "\n",
    "# aplica a função preprocess em cada texto da coluna 'resposta_aberta' e cria uma nova coluna 'processed_text'\n",
    "df[\"processed_text\"] = df[\"reclamacao\"].apply(preprocess)\n",
    "\n",
    "# imprime as primeiras linhas das colunas originais e processadas para comparar\n",
    "print(df[[\"reclamacao\", \"processed_text\"]].head())\n"
   ]
  },
  {
   "cell_type": "markdown",
   "id": "60fd2384",
   "metadata": {},
   "source": [
    "text.lower() → tudo em minúsculas ✅\n",
    "\n",
    "token.is_alpha → remove números, pontuação, emojis etc. ✅\n",
    "\n",
    "not token.is_stop → remove stopwords ✅\n",
    "\n",
    "token.lemma_ → mantém o lema da palavra (forma base, como “fazer” em vez de “fazendo”) ✅   "
   ]
  },
  {
   "cell_type": "code",
   "execution_count": 3,
   "id": "4b63d977",
   "metadata": {},
   "outputs": [
    {
     "name": "stdout",
     "output_type": "stream",
     "text": [
      "['comprei produto haver semana entregar site constar prazo entrega dia', 'prazo entrega dia útil entrar contato suporte informar produto nenhum', 'produto nenhum previsão claro finalmente recebi aviso entrega pacote', 'aviso entrega pacote chegar danificar embalagem rasgar sinal violação', 'sinal violação descaso total consumidor enviar cobrar solução ninguém', 'solução ninguém responder sinto totalmente desrespeitar cliente', 'desrespeitar cliente recomendar loja ninguém atendimento extremamente', 'extremamente demorar ineficaz solução imediato ter acionar órgão', 'ter acionar órgão defesa consumidor realizeir pagamento vista via', 'pagamento vista via boleto bancário dia compra prazo confirmação dia', 'confirmação dia útil passar dia status pedido alterar entrar contato', 'entrar contato chat loja recebi resposta automático ligar sac ligação', 'ligar sac ligação cair várias finalmente conseguir falar atendente', 'falar atendente dizer ir verificar retornarer contato acontecer', 'contato acontecer produto ficar estoque ser paguei disponível', 'paguei disponível propaganda enganoso total organização profundamente', 'profundamente insatisfeito experiência estorno imediato comprei', 'imediato comprei produto anunciar recebi unidade visivelmente usar', 'visivelmente usar risco carcaça sinal uso imediatamente entrar contato', 'entrar contato atendimento solicitar troca informar prazo reclamação', 'prazo reclamação haver expirar ser recebi item haver dia inaceitável', 'dia inaceitável atendimento cliente lento treinar atendente informação', 'atendente informação diferente ninguém resolver efetivamente problema', 'problema abri protocolo mandar foto mandar vídeo fazer cliente', 'vídeo fazer cliente implorar empresa cumpra próprio termo unidade', 'termo unidade dinheiro volta resolver próximo dia abrirar reclamação', 'abrirar reclamação procon canal aguardar entrega haver semana recebi', 'haver semana recebi produto errar preciso troca urgente suporte', 'urgente suporte técnico atender ligação cancelei compra cobrar cartão', 'compra cobrar cartão entrega fazer outro endereço erro loja produto', 'erro loja produto defeito ninguém responder demorar aprovar pagamento', 'aprovar pagamento perdi promoção']\n"
     ]
    }
   ],
   "source": [
    "# iremos utilizar os chunks pois os textos estao muito grandes, dessa forma podemos ter ganho em perfomance e economizacao de tokens\n",
    "from langchain.text_splitter import CharacterTextSplitter\n",
    "\n",
    "texto_longo = \" \".join(df[\"processed_text\"].tolist())\n",
    "\n",
    "# com o separator consiguimos separar corretamente esses chunks\n",
    "splitter = CharacterTextSplitter(chunk_size=70, chunk_overlap=20, separator=\" \")\n",
    "\n",
    "chunks = splitter.split_text(texto_longo)\n",
    "\n",
    "print(chunks)"
   ]
  },
  {
   "cell_type": "code",
   "execution_count": 4,
   "id": "0b4cc32e",
   "metadata": {},
   "outputs": [
    {
     "name": "stderr",
     "output_type": "stream",
     "text": [
      "c:\\projects\\Prova-IA\\venv\\Lib\\site-packages\\tqdm\\auto.py:21: TqdmWarning: IProgress not found. Please update jupyter and ipywidgets. See https://ipywidgets.readthedocs.io/en/stable/user_install.html\n",
      "  from .autonotebook import tqdm as notebook_tqdm\n"
     ]
    },
    {
     "name": "stdout",
     "output_type": "stream",
     "text": [
      "Total chunks:  32\n",
      "Gerados 32 embeddings para chunks, dimensão (384,)\n"
     ]
    }
   ],
   "source": [
    "# agora precisamos fazer o embeddamento para que tranformemos em um vetor\n",
    "# para armazenar em um banco de dados vetorizado\n",
    "\n",
    "from sentence_transformers import SentenceTransformer\n",
    "\n",
    "model = SentenceTransformer(\"paraphrase-multilingual-MiniLM-L12-v2\")\n",
    "\n",
    "print(f\"Total chunks:  {len(chunks)}\")\n",
    "\n",
    "embeddings_chunks = model.encode(chunks)\n",
    "\n",
    "print(f\"Gerados {len(embeddings_chunks)} embeddings para chunks, dimensão {embeddings_chunks[0].shape}\")"
   ]
  },
  {
   "cell_type": "code",
   "execution_count": 5,
   "id": "5a094579",
   "metadata": {},
   "outputs": [],
   "source": [
    "# agora devemos armazenar em um banco de dados para que consigamos realizar a busca\n",
    "# semantica\n",
    "\n",
    "import chromadb\n",
    "from chromadb.config import Settings\n",
    "\n",
    "client = chromadb.Client(Settings())\n",
    "\n",
    "collection = client.get_or_create_collection(name=\"reclamacoes\")\n",
    "\n",
    "ids = [str(i) for i in range(len(chunks))]\n",
    "\n",
    "metadatas = [{\"Source\": \"reclamacao\", \"chunk_index\": i} for i in range(len(chunks))]\n",
    "\n",
    "collection.add(\n",
    "    ids=ids,\n",
    "    documents=chunks,\n",
    "    embeddings=embeddings_chunks,\n",
    "    metadatas=metadatas\n",
    ")"
   ]
  },
  {
   "cell_type": "code",
   "execution_count": 6,
   "id": "182d1b87",
   "metadata": {},
   "outputs": [
    {
     "name": "stdout",
     "output_type": "stream",
     "text": [
      "Top 3 resultados mais similares\n",
      "Distância: 13.5885 | Meta: {'chunk_index': 14, 'Source': 'reclamacao'} | Texto: contato acontecer produto ficar estoque ser paguei disponível\n",
      "\n",
      "Distância: 14.1985 | Meta: {'chunk_index': 1, 'Source': 'reclamacao'} | Texto: prazo entrega dia útil entrar contato suporte informar produto nenhum\n",
      "\n",
      "Distância: 15.2585 | Meta: {'Source': 'reclamacao', 'chunk_index': 0} | Texto: comprei produto haver semana entregar site constar prazo entrega dia\n",
      "\n"
     ]
    }
   ],
   "source": [
    "# agora ja podemos realizar uma consulta nesse nosso banco de dados vetorizado\n",
    "\n",
    "query_text = \"As entregas são feitas dentro do prazo?\"\n",
    "\n",
    "query_embedding = model.encode([query_text][0])\n",
    "\n",
    "results = collection.query(\n",
    "    query_embeddings=[query_embedding],\n",
    "    n_results=3,\n",
    "    include=[\"documents\", \"distances\", \"metadatas\"]\n",
    ")\n",
    "\n",
    "print(\"Top 3 resultados mais similares\")\n",
    "\n",
    "for doc, dist, meta in zip(results[\"documents\"][0], results[\"distances\"][0], results[\"metadatas\"][0]):\n",
    "    print(f\"Distância: {dist:.4f} | Meta: {meta} | Texto: {doc}\\n\")"
   ]
  }
 ],
 "metadata": {
  "kernelspec": {
   "display_name": "venv",
   "language": "python",
   "name": "python3"
  },
  "language_info": {
   "codemirror_mode": {
    "name": "ipython",
    "version": 3
   },
   "file_extension": ".py",
   "mimetype": "text/x-python",
   "name": "python",
   "nbconvert_exporter": "python",
   "pygments_lexer": "ipython3",
   "version": "3.12.5"
  }
 },
 "nbformat": 4,
 "nbformat_minor": 5
}
