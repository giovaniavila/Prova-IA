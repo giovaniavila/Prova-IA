{
 "cells": [
  {
   "cell_type": "code",
   "execution_count": null,
   "id": "9bff8ac4",
   "metadata": {},
   "outputs": [
    {
     "name": "stdout",
     "output_type": "stream",
     "text": [
      "0    Comprei o produto há mais de duas semanas e el...\n",
      "1    Realizei o pagamento à vista, via boleto bancá...\n",
      "2    Comprei um produto anunciado como 'novo' e rec...\n",
      "3    Estou aguardando a entrega há mais de uma semana.\n",
      "4    Recebi o produto errado, preciso de troca urge...\n",
      "5        O suporte técnico não atende minhas ligações.\n",
      "6    Cancelei a compra, mas ainda cobraram no meu c...\n",
      "7    A entrega foi feita em outro endereço, erro da...\n",
      "8    Produto com defeito e ninguém responde meus e-...\n",
      "9    Demoraram para aprovar o pagamento, perdi a pr...\n",
      "Name: reclamacao, dtype: object\n"
     ]
    }
   ],
   "source": [
    "# precisamos extrair os dados desse csv, para isso, irei utilizar do pandas para a leitura desse csv\n",
    "# é uma das melhores opcoes para se trabalhar com leitura de csvs\n",
    "\n",
    "import pandas as pd\n",
    "\n",
    "df = pd.read_csv(\"reclamacoes_clientes.csv\")\n",
    "\n",
    "print(df[\"reclamacao\"])"
   ]
  },
  {
   "cell_type": "code",
   "execution_count": null,
   "id": "9eb2cf60",
   "metadata": {},
   "outputs": [],
   "source": [
    "# apos realizadt a leitura, devemos limpar esses dados, ou seja, deixar somente valores\n",
    "# que possam agregar semanticamente para nosso contexto, removendo numeros, pontuacoes, espacos desnecessarios\n",
    "# dessa forma é possivel realizar uma melhor analise dos dados\n"
   ]
  }
 ],
 "metadata": {
  "kernelspec": {
   "display_name": "venv",
   "language": "python",
   "name": "python3"
  },
  "language_info": {
   "codemirror_mode": {
    "name": "ipython",
    "version": 3
   },
   "file_extension": ".py",
   "mimetype": "text/x-python",
   "name": "python",
   "nbconvert_exporter": "python",
   "pygments_lexer": "ipython3",
   "version": "3.12.5"
  }
 },
 "nbformat": 4,
 "nbformat_minor": 5
}
