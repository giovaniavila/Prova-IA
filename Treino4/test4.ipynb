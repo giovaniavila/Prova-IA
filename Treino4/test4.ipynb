{
 "cells": [
  {
   "cell_type": "code",
   "execution_count": 5,
   "id": "9bff8ac4",
   "metadata": {},
   "outputs": [
    {
     "name": "stdout",
     "output_type": "stream",
     "text": [
      "0    Comprei o produto há mais de duas semanas e el...\n",
      "1    Realizei o pagamento à vista, via boleto bancá...\n",
      "2    Comprei um produto anunciado como 'novo' e rec...\n",
      "3    Estou aguardando a entrega há mais de uma semana.\n",
      "4    Recebi o produto errado, preciso de troca urge...\n",
      "5        O suporte técnico não atende minhas ligações.\n",
      "6    Cancelei a compra, mas ainda cobraram no meu c...\n",
      "7    A entrega foi feita em outro endereço, erro da...\n",
      "8    Produto com defeito e ninguém responde meus e-...\n",
      "9    Demoraram para aprovar o pagamento, perdi a pr...\n",
      "Name: reclamacao, dtype: object\n"
     ]
    }
   ],
   "source": [
    "import pandas as pd\n",
    "\n",
    "df = pd.read_csv(\"reclamacoes_clientes.csv\")\n",
    "\n",
    "print(df[\"reclamacao\"])"
   ]
  }
 ],
 "metadata": {
  "kernelspec": {
   "display_name": "venv",
   "language": "python",
   "name": "python3"
  },
  "language_info": {
   "codemirror_mode": {
    "name": "ipython",
    "version": 3
   },
   "file_extension": ".py",
   "mimetype": "text/x-python",
   "name": "python",
   "nbconvert_exporter": "python",
   "pygments_lexer": "ipython3",
   "version": "3.12.5"
  }
 },
 "nbformat": 4,
 "nbformat_minor": 5
}
