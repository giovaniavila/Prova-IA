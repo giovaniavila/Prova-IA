{
 "cells": [
  {
   "cell_type": "code",
   "execution_count": 7,
   "id": "870c2c30",
   "metadata": {},
   "outputs": [
    {
     "name": "stdout",
     "output_type": "stream",
     "text": [
      "   id_funcionario  idade         pais                      cargo  \\\n",
      "0               1     34       Brasil       Analista de Sistemas   \n",
      "1               2     29          EUA           Designer Gráfico   \n",
      "2               3     41        Índia        Gerente de Projetos   \n",
      "3               4     37  Reino Unido  Especialista em Marketing   \n",
      "4               5     25       Canadá            Suporte Técnico   \n",
      "\n",
      "   horas_trabalho_diario  nivel_satisfacao  \\\n",
      "0                      8                 7   \n",
      "1                      7                 8   \n",
      "2                      9                 6   \n",
      "3                      8                 9   \n",
      "4                      7                 5   \n",
      "\n",
      "                                     resposta_aberta  \n",
      "0  Trabalho de casa tem sido um desafio enorme. N...  \n",
      "1  Gosto da flexibilidade que o home office me of...  \n",
      "2  A comunicação à distância exige mais planejame...  \n",
      "3  O home office melhorou muito minha qualidade d...  \n",
      "4  Sinto que a rotina em casa é menos estruturada...  \n"
     ]
    }
   ],
   "source": [
    "import pandas as pd  # importa a biblioteca pandas para manipulação de dados em formato tabular\n",
    "\n",
    "df = pd.read_csv(\"homeOffice.csv\")  # lê o arquivo CSV 'meditacao.csv' e cria um DataFrame chamado df\n",
    "\n",
    "print(df.head())  # imprime as 5 primeiras linhas do DataFrame para visualizar o conteúdo inicial\n"
   ]
  },
  {
   "cell_type": "code",
   "execution_count": 8,
   "id": "5269b0d7",
   "metadata": {},
   "outputs": [
    {
     "name": "stdout",
     "output_type": "stream",
     "text": [
      "['trabalho', 'casa', 'ser', 'desafio', 'enorme', 'início', 'difícil', 'manter', 'concentração', 'haver', 'muito', 'distração', 'família', 'televisão', 'barulho', 'criei', 'rotina', 'manter', 'foco', 'sinto', 'interação', 'presencial', 'sinto', 'comunicação', 'mensagem', 'substituir', 'reunião', 'face', 'face', 'causa', 'tentar', 'técnica', 'produtividade', 'método', 'pomodoro', 'melhorar', 'desempenho']\n",
      "['gostar', 'flexibilidade', 'home', 'office', 'oferecer', 'gerenciar', 'eficaz', 'enfrentar', 'dificuldade', 'separar', 'vida', 'pessoal', 'profissional', 'trabalhar', 'dever', 'ergonomia', 'estação', 'trabalho', 'ideal', 'causar', 'dor', 'costa', 'tentar', 'pausa', 'regular', 'alongamento', 'com si', 'disciplinar']\n",
      "['comunicação', 'distância', 'exigir', 'planejamento', 'organização', 'reunião', 'virtual', 'constante', 'sinto', 'sobrecarregar', 'quantidade', 'informação', 'tecnologia', 'ajudar', 'fonte', 'estresse', 'ocorrer', 'problema', 'conexão', 'tentar', 'melhorar', 'gestão', 'equipe', 'ferramenta', 'colaborativo', 'processo', 'gradual']\n",
      "['home', 'office', 'melhorar', 'qualidade', 'vida', 'evito', 'trânsito', 'passar', 'família', 'entanto', 'sinto', 'socialização', 'colega', 'troca', 'espontâneo', 'ideia', 'uso', 'aplicativo', 'comunicação', 'compensar', 'mesmo', 'trabalho', 'dedicar', 'casa', 'ajudar', 'concentração', 'produtividade']\n",
      "['sinto', 'rotina', 'casa', 'estruturar', 'afetar', 'motivação', 'trabalho', 'horário', 'irregular', 'sinto', 'dificuldade', 'desconectar', 'dia', 'contato', 'colega', 'limitar', 'sinto', 'suporte', 'imediato', 'ter', 'escritório', 'tentar', 'participar', 'reunião', 'manter', 'contato', 'suficiente']\n",
      "                                     resposta_aberta  \\\n",
      "0  Trabalho de casa tem sido um desafio enorme. N...   \n",
      "1  Gosto da flexibilidade que o home office me of...   \n",
      "2  A comunicação à distância exige mais planejame...   \n",
      "3  O home office melhorou muito minha qualidade d...   \n",
      "4  Sinto que a rotina em casa é menos estruturada...   \n",
      "\n",
      "                                      processed_text  \n",
      "0  trabalho casa ser desafio enorme início difíci...  \n",
      "1  gostar flexibilidade home office oferecer gere...  \n",
      "2  comunicação distância exigir planejamento orga...  \n",
      "3  home office melhorar qualidade vida evito trân...  \n",
      "4  sinto rotina casa estruturar afetar motivação ...  \n"
     ]
    }
   ],
   "source": [
    "import spacy  # importa a biblioteca spaCy para processamento de linguagem natural\n",
    "\n",
    "nlp = spacy.load(\"pt_core_news_sm\")  # carrega o modelo de linguagem para português (pequeno)\n",
    "\n",
    "def preprocess(text):\n",
    "    if not isinstance(text, str):  # verifica se o input é uma string, senão retorna string vazia\n",
    "        return \"\"\n",
    "    doc = nlp(text.lower())  # converte o texto para minúsculas e processa com spaCy\n",
    "    # cria uma lista de lemas (forma base das palavras) filtrando tokens que são letras e não são stopwords\n",
    "    tokens = [token.lemma_ for token in doc if token.is_alpha and not token.is_stop]  \n",
    "    print(tokens)  # imprime os tokens lematizados para conferência\n",
    "    return \" \".join(tokens)  # retorna os tokens unidos em uma string novamente\n",
    "\n",
    "# aplica a função preprocess em cada texto da coluna 'resposta_aberta' e cria uma nova coluna 'processed_text'\n",
    "df[\"processed_text\"] = df[\"resposta_aberta\"].apply(preprocess)\n",
    "\n",
    "# imprime as primeiras linhas das colunas originais e processadas para comparar\n",
    "print(df[[\"resposta_aberta\", \"processed_text\"]].head())\n"
   ]
  },
  {
   "cell_type": "code",
   "execution_count": 9,
   "id": "b25e2237",
   "metadata": {},
   "outputs": [
    {
     "name": "stdout",
     "output_type": "stream",
     "text": [
      "['trabalho casa ser desafio enorme início difícil manter concentração haver muito distração família', 'distração família televisão barulho criei rotina manter foco sinto interação presencial sinto', 'presencial sinto comunicação mensagem substituir reunião face face causa tentar técnica', 'causa tentar técnica produtividade método pomodoro melhorar desempenho gostar flexibilidade home', 'flexibilidade home office oferecer gerenciar eficaz enfrentar dificuldade separar vida pessoal', 'separar vida pessoal profissional trabalhar dever ergonomia estação trabalho ideal causar dor costa', 'causar dor costa tentar pausa regular alongamento com si disciplinar comunicação distância exigir', 'distância exigir planejamento organização reunião virtual constante sinto sobrecarregar quantidade', 'quantidade informação tecnologia ajudar fonte estresse ocorrer problema conexão tentar melhorar', 'tentar melhorar gestão equipe ferramenta colaborativo processo gradual home office melhorar', 'home office melhorar qualidade vida evito trânsito passar família entanto sinto socialização colega', 'socialização colega troca espontâneo ideia uso aplicativo comunicação compensar mesmo trabalho', 'mesmo trabalho dedicar casa ajudar concentração produtividade sinto rotina casa estruturar afetar', 'estruturar afetar motivação trabalho horário irregular sinto dificuldade desconectar dia contato', 'dia contato colega limitar sinto suporte imediato ter escritório tentar participar reunião manter', 'reunião manter contato suficiente']\n"
     ]
    }
   ],
   "source": [
    "# como esses textos sao grandes, a melhor estrategia é trabalhar com chunks,\n",
    "# dessa forma podemos trabalhar melhor com limite de tokens e melhorar o desempenho computacional\n",
    "\n",
    "from langchain.text_splitter import CharacterTextSplitter  # importa o splitter de texto do LangChain\n",
    "\n",
    "# Junta todos os textos processados num só texto longo\n",
    "texto_longo = \" \".join(df[\"processed_text\"].tolist())\n",
    "\n",
    "# Inicializa o splitter com tamanho do chunk de 100 caracteres e sobreposição de 20 caracteres\n",
    "splitter = CharacterTextSplitter(chunk_size=100, chunk_overlap=20, separator=\" \")\n",
    "\n",
    "# Quebra o texto longo em pedaços (chunks) de tamanho definido\n",
    "chunks = splitter.split_text(texto_longo)\n",
    "\n",
    "# Imprime a lista de chunks para visualização\n",
    "print(chunks)\n"
   ]
  },
  {
   "cell_type": "code",
   "execution_count": 10,
   "id": "40d66964",
   "metadata": {},
   "outputs": [
    {
     "name": "stdout",
     "output_type": "stream",
     "text": [
      "Total chunks: 16\n",
      "Gerados 16 embeddings para chunks, dimensão (384,)\n"
     ]
    }
   ],
   "source": [
    "from sentence_transformers import SentenceTransformer  # importa a biblioteca para gerar embeddings\n",
    "\n",
    "# Carrega o modelo pré-treinado Multilingual MiniLM para gerar embeddings em múltiplos idiomas, inclusive português\n",
    "model = SentenceTransformer('paraphrase-multilingual-MiniLM-L12-v2')\n",
    "\n",
    "# Imprime a quantidade total de chunks que temos para processar\n",
    "print(f\"Total chunks: {len(chunks)}\")\n",
    "\n",
    "# Gera embeddings vetoriais para cada chunk de texto na lista \"chunks\"\n",
    "embeddings_chunks = model.encode(chunks)\n",
    "\n",
    "# Imprime quantos embeddings foram gerados e a dimensão (tamanho do vetor) do primeiro embedding\n",
    "print(f\"Gerados {len(embeddings_chunks)} embeddings para chunks, dimensão {embeddings_chunks[0].shape}\")\n"
   ]
  },
  {
   "cell_type": "code",
   "execution_count": 11,
   "id": "4bb809f0",
   "metadata": {},
   "outputs": [],
   "source": [
    "import chromadb\n",
    "from chromadb.config import Settings\n",
    "\n",
    "# Inicializa o cliente do ChromaDB com configurações padrão\n",
    "client = chromadb.Client(Settings())\n",
    "\n",
    "# Cria ou abre uma coleção chamada \"teste2\" para armazenar dados (embeddings + documentos)\n",
    "collection = client.get_or_create_collection(name=\"teste2\")\n",
    "\n",
    "# Cria uma lista de IDs para cada chunk, convertendo os índices para string (ex: '0', '1', '2', ...)\n",
    "ids = [str(i) for i in range(len(chunks))]\n",
    "\n",
    "# Cria uma lista de metadados para cada chunk, contendo a origem e o índice do chunk\n",
    "metadatas = [{\"source\": \"resposta_aberta\", \"chunk_index\": i} for i in range(len(chunks))]\n",
    "\n",
    "# Adiciona os dados na coleção:\n",
    "# - ids: identificadores únicos para cada documento\n",
    "# - documents: os chunks de texto\n",
    "# - embeddings: os vetores gerados para cada chunk\n",
    "# - metadatas: informações extras sobre cada chunk para ajudar na consulta e organização\n",
    "collection.add(\n",
    "    ids=ids,\n",
    "    documents=chunks,\n",
    "    embeddings=embeddings_chunks,\n",
    "    metadatas=metadatas\n",
    ")\n"
   ]
  },
  {
   "cell_type": "code",
   "execution_count": 12,
   "id": "748cec0c",
   "metadata": {},
   "outputs": [
    {
     "name": "stdout",
     "output_type": "stream",
     "text": [
      "Top 3 resultados mais similares:\n",
      "Distância: 13.3198 | Meta: {'source': 'resposta_aberta', 'chunk_index': 13} | Texto: estruturar afetar motivação trabalho horário irregular sinto dificuldade desconectar dia contato\n",
      "\n",
      "Distância: 13.4542 | Meta: {'chunk_index': 0, 'source': 'resposta_aberta'} | Texto: trabalho casa ser desafio enorme início difícil manter concentração haver muito distração família televisão barulho criei rotina manter foco sinto interação presencial sinto comunicação mensagem substituir reunião face face causa tentar técnica produtividade método pomodoro melhorar desempenho gostar flexibilidade home office oferecer gerenciar eficaz enfrentar dificuldade separar vida pessoal profissional trabalhar dever ergonomia estação trabalho ideal causar dor costa tentar pausa regular alongamento com si disciplinar comunicação distância exigir planejamento organização reunião virtual constante sinto sobrecarregar quantidade informação tecnologia ajudar fonte estresse ocorrer problema conexão tentar melhorar gestão equipe ferramenta colaborativo processo gradual home office melhorar qualidade vida evito trânsito passar família entanto sinto socialização colega troca espontâneo ideia uso aplicativo comunicação compensar mesmo trabalho dedicar casa ajudar concentração produtividade sinto rotina casa estruturar afetar motivação trabalho horário irregular sinto dificuldade desconectar dia contato colega limitar sinto suporte imediato ter escritório tentar participar reunião manter contato suficiente\n",
      "\n",
      "Distância: 14.9654 | Meta: {'source': 'resposta_aberta', 'chunk_index': 12} | Texto: mesmo trabalho dedicar casa ajudar concentração produtividade sinto rotina casa estruturar afetar\n",
      "\n"
     ]
    }
   ],
   "source": [
    "# Texto da consulta que queremos buscar no banco de dados\n",
    "query_text = \"Como manter foco e concentração no trabalho remoto?\"\n",
    "\n",
    "# Gera o embedding (vetor) para o texto da consulta usando o mesmo modelo de embeddings\n",
    "query_embedding = model.encode([query_text])[0]  # model.encode retorna lista, pegamos o primeiro vetor\n",
    "\n",
    "# Faz a consulta no ChromaDB para buscar os 3 chunks mais similares ao embedding da query\n",
    "results = collection.query(\n",
    "    query_embeddings=[query_embedding],  # lista com o vetor da query\n",
    "    n_results=3,                         # queremos os 3 resultados mais próximos\n",
    "    include=['documents', 'distances', 'metadatas']  # queremos os textos, a distância e os metadados retornados\n",
    ")\n",
    "\n",
    "print(\"Top 3 resultados mais similares:\")\n",
    "# Itera sobre os documentos, distâncias e metadados dos resultados para mostrar\n",
    "for doc, dist, meta in zip(results['documents'][0], results['distances'][0], results['metadatas'][0]):\n",
    "    print(f\"Distância: {dist:.4f} | Meta: {meta} | Texto: {doc}\\n\")\n"
   ]
  }
 ],
 "metadata": {
  "kernelspec": {
   "display_name": "venv",
   "language": "python",
   "name": "python3"
  },
  "language_info": {
   "codemirror_mode": {
    "name": "ipython",
    "version": 3
   },
   "file_extension": ".py",
   "mimetype": "text/x-python",
   "name": "python",
   "nbconvert_exporter": "python",
   "pygments_lexer": "ipython3",
   "version": "3.12.5"
  }
 },
 "nbformat": 4,
 "nbformat_minor": 5
}
