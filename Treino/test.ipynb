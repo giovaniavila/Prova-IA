{
 "cells": [
  {
   "cell_type": "code",
   "execution_count": 14,
   "id": "325d537d",
   "metadata": {},
   "outputs": [
    {
     "name": "stdout",
     "output_type": "stream",
     "text": [
      "   id_aluno  idade         país nivel_educacional  horas_uso_diario  \\\n",
      "0         1     18       Brasil      Ensino Médio               5.0   \n",
      "1         2     22          EUA         Graduação               7.5   \n",
      "2         3     20        Índia         Graduação               3.0   \n",
      "3         4     25  Reino Unido     Pós-graduação               6.5   \n",
      "4         5     19       Canadá      Ensino Médio               2.0   \n",
      "\n",
      "  plataforma_favorita          estado_civil  grau_conflito  \\\n",
      "0           Instagram              Solteiro              2   \n",
      "1              TikTok  Em um relacionamento              6   \n",
      "2            WhatsApp              Solteiro              1   \n",
      "3            Facebook                Casado              4   \n",
      "4            Snapchat  Em um relacionamento              3   \n",
      "\n",
      "                                     resposta_aberta  \n",
      "0  Passo horas vendo reels e conversando com amigos.  \n",
      "1  Meu parceiro fica irritado quando ignoro mensa...  \n",
      "2  Uso principalmente para manter contato com col...  \n",
      "3  É um hábito, às vezes afeta meu sono e o tempo...  \n",
      "4  Não é grande coisa, só verifico as mensagens d...  \n",
      "        id_aluno      idade    país nivel_educacional  horas_uso_diario  \\\n",
      "count   5.000000   5.000000       5                 5          5.000000   \n",
      "unique       NaN        NaN       5                 3               NaN   \n",
      "top          NaN        NaN  Brasil      Ensino Médio               NaN   \n",
      "freq         NaN        NaN       1                 2               NaN   \n",
      "mean    3.000000  20.800000     NaN               NaN          4.800000   \n",
      "std     1.581139   2.774887     NaN               NaN          2.307596   \n",
      "min     1.000000  18.000000     NaN               NaN          2.000000   \n",
      "25%     2.000000  19.000000     NaN               NaN          3.000000   \n",
      "50%     3.000000  20.000000     NaN               NaN          5.000000   \n",
      "75%     4.000000  22.000000     NaN               NaN          6.500000   \n",
      "max     5.000000  25.000000     NaN               NaN          7.500000   \n",
      "\n",
      "       plataforma_favorita estado_civil  grau_conflito  \\\n",
      "count                    5            5       5.000000   \n",
      "unique                   5            3            NaN   \n",
      "top              Instagram     Solteiro            NaN   \n",
      "freq                     1            2            NaN   \n",
      "mean                   NaN          NaN       3.200000   \n",
      "std                    NaN          NaN       1.923538   \n",
      "min                    NaN          NaN       1.000000   \n",
      "25%                    NaN          NaN       2.000000   \n",
      "50%                    NaN          NaN       3.000000   \n",
      "75%                    NaN          NaN       4.000000   \n",
      "max                    NaN          NaN       6.000000   \n",
      "\n",
      "                                          resposta_aberta  \n",
      "count                                                   5  \n",
      "unique                                                  5  \n",
      "top     Passo horas vendo reels e conversando com amigos.  \n",
      "freq                                                    1  \n",
      "mean                                                  NaN  \n",
      "std                                                   NaN  \n",
      "min                                                   NaN  \n",
      "25%                                                   NaN  \n",
      "50%                                                   NaN  \n",
      "75%                                                   NaN  \n",
      "max                                                   NaN  \n",
      "id_aluno               0\n",
      "idade                  0\n",
      "país                   0\n",
      "nivel_educacional      0\n",
      "horas_uso_diario       0\n",
      "plataforma_favorita    0\n",
      "estado_civil           0\n",
      "grau_conflito          0\n",
      "resposta_aberta        0\n",
      "dtype: int64\n",
      "Index(['id_aluno', 'idade', 'país', 'nivel_educacional', 'horas_uso_diario',\n",
      "       'plataforma_favorita', 'estado_civil', 'grau_conflito',\n",
      "       'resposta_aberta'],\n",
      "      dtype='object')\n"
     ]
    }
   ],
   "source": [
    "import pandas as pd\n",
    "\n",
    "df = pd.read_csv(\"socialMedia.csv\")\n",
    "\n",
    "print(df.head())\n",
    "print(df.describe(include=\"all\"))\n",
    "print(df.isnull().sum())\n",
    "print(df.columns)"
   ]
  },
  {
   "cell_type": "code",
   "execution_count": 15,
   "id": "1b6db666",
   "metadata": {},
   "outputs": [
    {
     "name": "stdout",
     "output_type": "stream",
     "text": [
      "['passo', 'hora', 'ver', 'reels', 'conversar', 'amigo']\n",
      "['parceiro', 'ficar', 'irritar', 'ignorar', 'mensagem', 'causa', 'rolagem']\n",
      "['uso', 'principalmente', 'manter', 'contato', 'colega', 'classe']\n",
      "['hábito', 'afetar', 'sono', 'família']\n",
      "['verifico', 'mensagem']\n",
      "                                     resposta_aberta  \\\n",
      "0  Passo horas vendo reels e conversando com amigos.   \n",
      "1  Meu parceiro fica irritado quando ignoro mensa...   \n",
      "2  Uso principalmente para manter contato com col...   \n",
      "3  É um hábito, às vezes afeta meu sono e o tempo...   \n",
      "4  Não é grande coisa, só verifico as mensagens d...   \n",
      "\n",
      "                                      processed_text  \n",
      "0               passo hora ver reels conversar amigo  \n",
      "1  parceiro ficar irritar ignorar mensagem causa ...  \n",
      "2    uso principalmente manter contato colega classe  \n",
      "3                         hábito afetar sono família  \n",
      "4                                  verifico mensagem  \n"
     ]
    }
   ],
   "source": [
    "import spacy\n",
    "\n",
    "# Carrega o modelo em português\n",
    "nlp = spacy.load(\"pt_core_news_sm\")\n",
    "\n",
    "def preprocess(text):\n",
    "    if not isinstance(text, str):\n",
    "        return \"\"\n",
    "    \n",
    "    doc = nlp(text.lower())\n",
    "    tokens = [token.lemma_ for token in doc if token.is_alpha and not token.is_stop]\n",
    "    print(tokens)\n",
    "    return \" \".join(tokens)\n",
    "\n",
    "df[\"processed_text\"] = df[\"resposta_aberta\"].apply(preprocess)\n",
    "\n",
    "#comparacao entre o originval e pos processamento com remocao de stopwords\n",
    "print(df[[\"resposta_aberta\", \"processed_text\"]].head())"
   ]
  },
  {
   "cell_type": "code",
   "execution_count": 16,
   "id": "f71b2cb6",
   "metadata": {},
   "outputs": [
    {
     "name": "stdout",
     "output_type": "stream",
     "text": [
      "Gerados 5 embeddings com dimensão (384,)\n"
     ]
    }
   ],
   "source": [
    "from sentence_transformers import SentenceTransformer\n",
    "\n",
    "# Carrega um modelo pré-treinado que funciona bem com português\n",
    "model = SentenceTransformer('paraphrase-multilingual-MiniLM-L12-v2')\n",
    "\n",
    "# Lista com os textos para gerar embeddings (exemplo: suas respostas abertas já processadas)\n",
    "texts = df[\"processed_text\"].tolist()\n",
    "\n",
    "# Gera os embeddings\n",
    "embeddings = model.encode(texts)\n",
    "\n",
    "print(f\"Gerados {len(embeddings)} embeddings com dimensão {embeddings[0].shape}\")\n"
   ]
  },
  {
   "cell_type": "code",
   "execution_count": 17,
   "id": "3ded0ba0",
   "metadata": {},
   "outputs": [
    {
     "name": "stdout",
     "output_type": "stream",
     "text": [
      "Embeddings armazenados com sucesso no ChromaDB!\n"
     ]
    }
   ],
   "source": [
    "import chromadb\n",
    "from chromadb.config import Settings\n",
    "from sentence_transformers import SentenceTransformer\n",
    "\n",
    "# Inicializa o cliente ChromaDB (local, sem configuração extra)\n",
    "client = chromadb.Client(Settings())\n",
    "\n",
    "# Cria (ou acessa) uma coleção chamada \"respostas_alunos\"\n",
    "collection = client.get_or_create_collection(name=\"respostas_alunos\")\n",
    "\n",
    "# Carrega o modelo para gerar embeddings\n",
    "model = SentenceTransformer('paraphrase-multilingual-MiniLM-L12-v2')\n",
    "\n",
    "# Textos já pré-processados, por exemplo:\n",
    "texts = df[\"processed_text\"].tolist()\n",
    "\n",
    "# Gera embeddings\n",
    "embeddings = model.encode(texts).tolist()  # converte para lista para Chroma\n",
    "\n",
    "# IDs para cada vetor (pode ser o id do aluno)\n",
    "ids = df[\"id_aluno\"].astype(str).tolist()\n",
    "\n",
    "# Adiciona os vetores na coleção\n",
    "collection.add(\n",
    "    ids=ids,\n",
    "    documents=texts,   # opcional, mas bom para referência no search\n",
    "    embeddings=embeddings\n",
    ")\n",
    "\n",
    "print(\"Embeddings armazenados com sucesso no ChromaDB!\")\n"
   ]
  },
  {
   "cell_type": "code",
   "execution_count": 18,
   "id": "cfbe33c6",
   "metadata": {},
   "outputs": [
    {
     "name": "stdout",
     "output_type": "stream",
     "text": [
      "{'ids': [['1', '3', '2']], 'embeddings': None, 'documents': [['passo hora ver reels conversar amigo', 'uso principalmente manter contato colega classe', 'parceiro ficar irritar ignorar mensagem causa rolagem']], 'uris': None, 'included': ['metadatas', 'documents', 'distances'], 'data': None, 'metadatas': [[None, None, None]], 'distances': [[22.70426368713379, 25.72380256652832, 27.543392181396484]]}\n"
     ]
    }
   ],
   "source": [
    "query = \"Estou cansado de ficar no celular o tempo todo\"\n",
    "\n",
    "query_embedding = model.encode([query]).tolist()\n",
    "\n",
    "results = collection.query(\n",
    "    query_embeddings=query_embedding,\n",
    "    n_results=3,\n",
    ")\n",
    "\n",
    "print(results)\n"
   ]
  },
  {
   "cell_type": "markdown",
   "id": "32149773",
   "metadata": {},
   "source": []
  }
 ],
 "metadata": {
  "kernelspec": {
   "display_name": "venv",
   "language": "python",
   "name": "python3"
  },
  "language_info": {
   "codemirror_mode": {
    "name": "ipython",
    "version": 3
   },
   "file_extension": ".py",
   "mimetype": "text/x-python",
   "name": "python",
   "nbconvert_exporter": "python",
   "pygments_lexer": "ipython3",
   "version": "3.12.5"
  }
 },
 "nbformat": 4,
 "nbformat_minor": 5
}
